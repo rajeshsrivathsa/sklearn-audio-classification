{
  "nbformat": 4,
  "nbformat_minor": 0,
  "metadata": {
    "colab": {
      "name": "TF Logistic Regression tutorial.ipynb",
      "provenance": [],
      "collapsed_sections": [],
      "include_colab_link": true
    },
    "kernelspec": {
      "name": "python3",
      "display_name": "Python 3"
    }
  },
  "cells": [
    {
      "cell_type": "markdown",
      "metadata": {
        "id": "view-in-github",
        "colab_type": "text"
      },
      "source": [
        "<a href=\"https://colab.research.google.com/github/rajeshsrivathsa/sklearn-audio-classification/blob/master/TF_Logistic_Regression_tutorial.ipynb\" target=\"_parent\"><img src=\"https://colab.research.google.com/assets/colab-badge.svg\" alt=\"Open In Colab\"/></a>"
      ]
    },
    {
      "cell_type": "markdown",
      "metadata": {
        "id": "lWlRDOHY1CIw"
      },
      "source": [
        "# Logistic Regression\n",
        "\n",
        "In statistics logistic regression is used to model the probability of a certain class or event. We will be focusing more on the basics and implementation of the model, and not go too deep into the math part.\n",
        "\n",
        "Logistic regression is similar to linear regression because both of these involve estimating the values of parameters used in the prediction equation based on the given training data. Linear regression predicts the value of some continuous, dependent variable. Whereas logistic regression predicts the probability of an event or class that is dependent on other factors. Thus the output of logistic regression always lies between 0 and 1. Because of this property it is commonly used for classification purpose."
      ]
    },
    {
      "cell_type": "markdown",
      "metadata": {
        "id": "tkKuz_oeyuTI"
      },
      "source": [
        "\n",
        "## Logistic Model\n",
        "Consider a model with features *x<sub>1</sub>, x<sub>2</sub>, x<sub>3</sub> … x<sub>n</sub>*. Let the binary output be denoted by *Y*, that can take the values 0 or 1.  \n",
        "Let *p* be the probability of *Y = 1*, we can denote it as *p = P(Y=1)*.  \n",
        "The mathematical relationship between these variables can be denoted as:  \n",
        "\n",
        "$$ ln(\\frac{p}{1-p}) = b_0 + b_1x_1 + b_2x_2 + b_3x_3 ... b_nx_n $$\n",
        "\n",
        "Here the term $\\frac{p}{1-p}$ is known as the *odds* and denotes the likelihood of the event taking place. Thus $ln(\\frac{p}{1-p})$ is known as the *log odds* and is simply used to map the probabilty that lies between 0 and 1 to a range between $(-\\infty, +\\infty)$. The terms $b_0, b_1, b_2 ...$ are parameters (or weights) that we will estimate during training.   \n",
        "\n",
        "So this is just the basic math behind what we are going to do. We are interested in the probability *p* in this equation. So we simplify the equation to obtain the value of p:  \n",
        "1. The log term $ln$ on the LHS can be removed by raising the RHS as a power of $e$:  \n",
        "$$ \\frac{p}{1-p}  = e^{b_0 + b_1x_1 + b_2x_2 + b_3x_3 ... b_nx_n} $$\n",
        "2. Now we can easily simplify to obtain the value of $p$:  \n",
        "$$ p = \\frac{e^{b_0 + b_1x_1 + b_2x_2 + b_3x_3 ... b_nx_n}}{1 + e^{b_0 + b_1x_1 + b_2x_2 + b_3x_3 ... b_nx_n}} $$\n",
        "$$ or $$\n",
        "$$ p = \\frac{1}{1 + e^{-(b_0 + b_1x_1 + b_2x_2 + b_3x_3 ... b_nx_n)}} $$   \n",
        "\n",
        "This actually turns out to be the equation of the *Sigmoid Function* which is widely used in other machine learning applications. The *Sigmoid Function* is given by:\n",
        "$$ S(x) = \\frac{1}{1+e^{-x}} $$\n",
        "\n",
        "Now we will be using the above derived equation to make our predictions. Before that we will train our model to obtain the values of our parameters $b_0, b_1, b_2 ...$ that result in least error. This is where the error or loss function comes in."
      ]
    },
    {
      "cell_type": "markdown",
      "metadata": {
        "id": "J6n-a4xDy5u_"
      },
      "source": [
        "## Loss Function\n",
        "The loss is basically the error in our predicted value. In other words it is a difference between our predicted value and the actual value. We will be using the [L2 Loss Function](https://afteracademy.com/blog/what-are-l1-and-l2-loss-functions) to calculate the error. Theoretically you can use any function to calculate the error. This function can be broken down as:\n",
        "1. Let the actual value be $y_i$. Let the value predicted using our model be denoted as $\\bar{y_i}$. Find the difference between the actual and predicted value. \n",
        "2. Square this difference. \n",
        "3. Find the sum across all the values in training data. \n",
        "$$ L = \\sum_{i = 1}^n(y_i - \\bar{y_i})^2 $$  \n",
        "\n",
        "Now that we have the error, we need to update the values of our parameters to minimize this error. This is where the \"learning\" actually happens, since our model is updating itself based on it's previous output to obtain a more accurate output in the next step. We will be using the *Gradient Descent Algorithm* to estimate our parameters. Another commonly used algorithm is the [Maximum Likelihood Estimation](https://en.wikipedia.org/wiki/Maximum_likelihood_estimation)."
      ]
    },
    {
      "cell_type": "markdown",
      "metadata": {
        "id": "T_hesTCwy_gi"
      },
      "source": [
        "\n",
        "## The Gradient Descent Algorithm\n",
        "You might know that the partial derivative of a function at it's minimum value is equal to 0. So gradient descent basically uses this concept to estimate the parameters or weights of our model by minimizing the loss function. [Click here](https://www.youtube.com/watch?v=4PHI11lX11I) for a more detailed explanation on how gradient descent works.  \n",
        "For simplicity, for the rest of this tutorial let us assume that our ouptput depends only on a single feature $x$. So we can rewrite our equation as:\n",
        "$$ \\bar{y_i} = p = \\frac{1}{1 + e^{-(b_0 + b_1x_i)}} = \\frac{1}{1 + e^{-b_0 -b_1x_i}} $$  \n",
        "Thus we need to estimate the values of weights $b_0$ and $b_1$ using our given training data.\n",
        "1. Initially let $b_0=0$ and $b_1=0$. Let $L$ be the learning rate. The learning rate controls by how much the values of $b_0$ and $b_1$ are updated at each step in the learning process. Here let $L = 0.001$.\n",
        "2. Calculate the partial derivative with respect to $b_0$ and $b_1$. The value of the partial derivative will tell us how far the loss function is from it's minimum value. It is a measure of how much our weights need to be updated to attain minimum or ideally 0 error. In case you have more than one feature, you need to calculate the partial derivative for each weight $b_0$, $b_1$ ... $b_n$ where $n$ is the number of features. For a detailed explanation on the math behind calculating the partial derivatives, check out [my video.](https://youtu.be/l8VEth6leXA)\n",
        "$$ D_{b_0} = -2 \\sum_{i=1}^n(y_i - \\bar{y_i}) \\times \\bar{y_i} \\times (1 - \\bar{y_i}) $$\n",
        "$$ D_{b_1} = -2 \\sum_{i=1}^n(y_i - \\bar{y_i}) \\times \\bar{y_i} \\times (1 - \\bar{y_i}) \\times x_i $$\n",
        "3. Next we update the values of $b_0$ and $b_1$:\n",
        "$$ b_0 = b_0 - L \\times D_{b_0} $$\n",
        "$$ b_1 = b_1 - L \\times D_{b_1} $$  \n",
        "4. We repeat this process until our loss function is a very small value or ideally reaches 0 (meaning no errors and 100% accuracy). The number of times we repeat this learning process is known as iterations or epochs. \n",
        "\n"
      ]
    },
    {
      "cell_type": "markdown",
      "metadata": {
        "id": "-aUmzO9SzFzo"
      },
      "source": [
        "## Implementing the Model"
      ]
    },
    {
      "cell_type": "code",
      "metadata": {
        "id": "TNSeN-ZzybHN",
        "colab": {
          "base_uri": "https://localhost:8080/",
          "height": 204
        },
        "outputId": "e78df37a-f281-46ee-b311-0a0fca98ff54"
      },
      "source": [
        "# Importing libraries\n",
        "import numpy as np\n",
        "import pandas as pd\n",
        "import matplotlib.pyplot as plt\n",
        "from sklearn.model_selection import train_test_split\n",
        "from math import exp\n",
        "plt.rcParams[\"figure.figsize\"] = (10, 6)\n",
        "\n",
        "# Download the dataset\n",
        "# Source of dataset - https://www.kaggle.com/rakeshrau/social-network-ads\n",
        "!wget \"https://drive.google.com/uc?id=15WAD9_4CpUK6EWmgWVXU8YMnyYLKQvW8&export=download\" -O data.csv -q\n",
        "\n",
        "# Load the data\n",
        "data = pd.read_csv(\"data.csv\")\n",
        "data.head()"
      ],
      "execution_count": null,
      "outputs": [
        {
          "output_type": "execute_result",
          "data": {
            "text/html": [
              "<div>\n",
              "<style scoped>\n",
              "    .dataframe tbody tr th:only-of-type {\n",
              "        vertical-align: middle;\n",
              "    }\n",
              "\n",
              "    .dataframe tbody tr th {\n",
              "        vertical-align: top;\n",
              "    }\n",
              "\n",
              "    .dataframe thead th {\n",
              "        text-align: right;\n",
              "    }\n",
              "</style>\n",
              "<table border=\"1\" class=\"dataframe\">\n",
              "  <thead>\n",
              "    <tr style=\"text-align: right;\">\n",
              "      <th></th>\n",
              "      <th>User ID</th>\n",
              "      <th>Gender</th>\n",
              "      <th>Age</th>\n",
              "      <th>EstimatedSalary</th>\n",
              "      <th>Purchased</th>\n",
              "    </tr>\n",
              "  </thead>\n",
              "  <tbody>\n",
              "    <tr>\n",
              "      <th>0</th>\n",
              "      <td>15624510</td>\n",
              "      <td>Male</td>\n",
              "      <td>19</td>\n",
              "      <td>19000</td>\n",
              "      <td>0</td>\n",
              "    </tr>\n",
              "    <tr>\n",
              "      <th>1</th>\n",
              "      <td>15810944</td>\n",
              "      <td>Male</td>\n",
              "      <td>35</td>\n",
              "      <td>20000</td>\n",
              "      <td>0</td>\n",
              "    </tr>\n",
              "    <tr>\n",
              "      <th>2</th>\n",
              "      <td>15668575</td>\n",
              "      <td>Female</td>\n",
              "      <td>26</td>\n",
              "      <td>43000</td>\n",
              "      <td>0</td>\n",
              "    </tr>\n",
              "    <tr>\n",
              "      <th>3</th>\n",
              "      <td>15603246</td>\n",
              "      <td>Female</td>\n",
              "      <td>27</td>\n",
              "      <td>57000</td>\n",
              "      <td>0</td>\n",
              "    </tr>\n",
              "    <tr>\n",
              "      <th>4</th>\n",
              "      <td>15804002</td>\n",
              "      <td>Male</td>\n",
              "      <td>19</td>\n",
              "      <td>76000</td>\n",
              "      <td>0</td>\n",
              "    </tr>\n",
              "  </tbody>\n",
              "</table>\n",
              "</div>"
            ],
            "text/plain": [
              "    User ID  Gender  Age  EstimatedSalary  Purchased\n",
              "0  15624510    Male   19            19000          0\n",
              "1  15810944    Male   35            20000          0\n",
              "2  15668575  Female   26            43000          0\n",
              "3  15603246  Female   27            57000          0\n",
              "4  15804002    Male   19            76000          0"
            ]
          },
          "metadata": {
            "tags": []
          },
          "execution_count": 7
        }
      ]
    },
    {
      "cell_type": "markdown",
      "metadata": {
        "id": "f84dxYrjVldF"
      },
      "source": [
        "Input: Age\n",
        "\n",
        "Output: Probability of purchasing a product X.\n",
        "\n",
        "# Section 1: Data preparation"
      ]
    },
    {
      "cell_type": "code",
      "metadata": {
        "id": "b3R547WLzqEP",
        "colab": {
          "base_uri": "https://localhost:8080/",
          "height": 374
        },
        "outputId": "2682e29b-3de8-4e5b-ff95-5b12da6e1f58"
      },
      "source": [
        "# Visualizing the dataset\n",
        "plt.scatter(data['Age'], data['Purchased'])\n",
        "plt.show()\n",
        "\n",
        "# Divide the data to training set and test set\n",
        "X_train, X_test, y_train, y_test = train_test_split(data['Age'], data['Purchased'], test_size=0.20)"
      ],
      "execution_count": null,
      "outputs": [
        {
          "output_type": "display_data",
          "data": {
            "image/png": "[encoded data removed]",
            "text/plain": [
              "<Figure size 720x432 with 1 Axes>"
            ]
          },
          "metadata": {
            "tags": [],
            "needs_background": "light"
          }
        }
      ]
    },
    {
      "cell_type": "markdown",
      "metadata": {
        "id": "gJ17Jf09d5LE"
      },
      "source": [
        "# Section 2: Model and Loss definition"
      ]
    },
    {
      "cell_type": "code",
      "metadata": {
        "id": "T_x2wiimzzQg"
      },
      "source": [
        "# Creating the logistic regression model\n",
        "\n",
        "# Helper function to normalize data\n",
        "def normalize(X):\n",
        "    return X - X.mean()\n",
        "\n",
        "# Method to make predictions\n",
        "def predict(X, b0, b1):\n",
        "    return np.array([1 / (1 + exp(-1*b0 + -1*b1*x)) for x in X])\n",
        "\n",
        "# Method to train the model\n",
        "def logistic_regression(X, Y):\n",
        "\n",
        "    X = normalize(X)\n",
        "\n",
        "    # Initializing variables\n",
        "    b0 = 0\n",
        "    b1 = 0\n",
        "    L = 0.001\n",
        "    epochs = 300\n",
        "\n",
        "    for epoch in range(epochs):\n",
        "        y_pred = predict(X, b0, b1)\n",
        "        D_b0 = -2 * sum((Y - y_pred) * y_pred * (1 - y_pred))  # Derivative of loss wrt b0\n",
        "        D_b1 = -2 * sum(X * (Y - y_pred) * y_pred * (1 - y_pred))  # Derivative of loss wrt b1\n",
        "        b0 = b0 - L * D_b0\n",
        "        b1 = b1 - L * D_b1\n",
        "    \n",
        "    return b0, b1"
      ],
      "execution_count": null,
      "outputs": []
    },
    {
      "cell_type": "markdown",
      "metadata": {
        "id": "M7RZyvHXeC_j"
      },
      "source": [
        "# Section 3: Training and Testing "
      ]
    },
    {
      "cell_type": "code",
      "metadata": {
        "id": "CibVQeLC0WyX",
        "colab": {
          "base_uri": "https://localhost:8080/",
          "height": 391
        },
        "outputId": "85c1986f-c020-4f65-95c0-11afeba124e9"
      },
      "source": [
        "# Training the model\n",
        "b0, b1 = logistic_regression(X_train, y_train)\n",
        "\n",
        "# Making predictions\n",
        "# X_test = X_test.sort_values()  # Sorting values is optional only to see the line graph\n",
        "X_test_norm = normalize(X_test)\n",
        "y_pred = predict(X_test_norm, b0, b1)\n",
        "y_pred = [1 if p >= 0.5 else 0 for p in y_pred]\n",
        "\n",
        "plt.clf()\n",
        "plt.scatter(X_test, y_test)\n",
        "plt.scatter(X_test, y_pred, c=\"red\")\n",
        "# plt.plot(X_test, y_pred, c=\"red\", linestyle='-', marker='o') # Only if values are sorted\n",
        "plt.show()\n",
        "\n",
        "# The accuracy\n",
        "accuracy = 0\n",
        "for i in range(len(y_pred)):\n",
        "    if y_pred[i] == y_test.iloc[i]:\n",
        "        accuracy += 1\n",
        "print(f\"Accuracy = {accuracy / len(y_pred)}\")"
      ],
      "execution_count": null,
      "outputs": [
        {
          "output_type": "display_data",
          "data": {
            "image/png": "[encoded data removed]",
            "text/plain": [
              "<Figure size 720x432 with 1 Axes>"
            ]
          },
          "metadata": {
            "tags": [],
            "needs_background": "light"
          }
        },
        {
          "output_type": "stream",
          "text": [
            "Accuracy = 0.85\n"
          ],
          "name": "stdout"
        }
      ]
    },
    {
      "cell_type": "code",
      "metadata": {
        "id": "zdSdhARu1BLV",
        "colab": {
          "base_uri": "https://localhost:8080/",
          "height": 479
        },
        "outputId": "c28d6f05-3074-41b4-9ad1-8d7c7c43a1f7"
      },
      "source": [
        "# Making predictions using scikit learn\n",
        "from sklearn.linear_model import LogisticRegression\n",
        "\n",
        "# Create an instance and fit the model \n",
        "lr_model = LogisticRegression()\n",
        "lr_model.fit(X_train.values.reshape(-1, 1), y_train.values.reshape(-1, 1))\n",
        "\n",
        "# Making predictions\n",
        "y_pred_sk = lr_model.predict(X_test.values.reshape(-1, 1))\n",
        "plt.clf()\n",
        "plt.scatter(X_test, y_test)\n",
        "plt.scatter(X_test, y_pred_sk, c=\"red\")\n",
        "plt.show()\n",
        "\n",
        "# Accuracy\n",
        "print(f\"Accuracy = {lr_model.score(X_test.values.reshape(-1, 1), y_test.values.reshape(-1, 1))}\")"
      ],
      "execution_count": null,
      "outputs": [
        {
          "output_type": "stream",
          "text": [
            "/usr/local/lib/python3.6/dist-packages/sklearn/linear_model/logistic.py:432: FutureWarning: Default solver will be changed to 'lbfgs' in 0.22. Specify a solver to silence this warning.\n",
            "  FutureWarning)\n",
            "/usr/local/lib/python3.6/dist-packages/sklearn/utils/validation.py:724: DataConversionWarning: A column-vector y was passed when a 1d array was expected. Please change the shape of y to (n_samples, ), for example using ravel().\n",
            "  y = column_or_1d(y, warn=True)\n"
          ],
          "name": "stderr"
        },
        {
          "output_type": "display_data",
          "data": {
            "image/png": "[encoded data removed]",
            "text/plain": [
              "<Figure size 720x432 with 1 Axes>"
            ]
          },
          "metadata": {
            "tags": []
          }
        },
        {
          "output_type": "stream",
          "text": [
            "Accuracy = 0.8625\n"
          ],
          "name": "stdout"
        }
      ]
    }
  ]
}